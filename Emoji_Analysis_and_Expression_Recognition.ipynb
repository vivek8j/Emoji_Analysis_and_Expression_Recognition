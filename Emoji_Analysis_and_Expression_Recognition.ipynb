{
  "cells": [
    {
      "cell_type": "code",
      "execution_count": null,
      "metadata": {
        "id": "NNTxPwze3fgT"
      },
      "outputs": [],
      "source": [
        "import numpy as np\n",
        "import pandas as pd\n",
        "import matplotlib.pyplot as plt"
      ]
    },
    {
      "cell_type": "code",
      "execution_count": null,
      "metadata": {
        "colab": {
          "base_uri": "https://localhost:8080/"
        },
        "id": "pAisWypm_eI7",
        "outputId": "9cdafbad-8d01-45ed-d006-130723375bda"
      },
      "outputs": [
        {
          "output_type": "stream",
          "name": "stdout",
          "text": [
            "Requirement already satisfied: openpyxl==3.0.9 in /usr/local/lib/python3.7/dist-packages (3.0.9)\n",
            "Requirement already satisfied: et-xmlfile in /usr/local/lib/python3.7/dist-packages (from openpyxl==3.0.9) (1.1.0)\n"
          ]
        }
      ],
      "source": [
        "pip install openpyxl==3.0.9"
      ]
    },
    {
      "cell_type": "code",
      "execution_count": null,
      "metadata": {
        "id": "2eXRx8GO-uAP"
      },
      "outputs": [],
      "source": [
        "dataset = pd.read_excel(r'/content/DataSet.xlsx')\n",
        "unicodes = dataset['Unicode ']\n",
        "temp = dataset['Unicode ']\n",
        "expressions = dataset['Expression']\n",
        "\n",
        "# dataset2 = pd.read_excel(r'/content/DataSet2.xlsx')\n",
        "# text = dataset2['Text']\n",
        "# textExpression = dataset2['TextExpression']"
      ]
    },
    {
      "cell_type": "markdown",
      "metadata": {
        "id": "rKIVLnIU8DTX"
      },
      "source": [
        "#Adding Text Emojis"
      ]
    },
    {
      "cell_type": "code",
      "execution_count": null,
      "metadata": {
        "id": "Ri2L_gLS8HVA",
        "colab": {
          "base_uri": "https://localhost:8080/"
        },
        "outputId": "22c627e3-7699-455d-e828-3dbd2fdb9dfd"
      },
      "outputs": [
        {
          "output_type": "stream",
          "name": "stdout",
          "text": [
            "<class 'dict'>\n",
            "33\n",
            "33\n",
            "F60A\n",
            "F609\n",
            "F61F\n",
            "F60A\n",
            "F60A\n",
            "F601\n",
            "F619\n",
            "F603\n",
            "F60D\n",
            "F620\n",
            "F616\n",
            "F622\n",
            "F62D\n",
            "F631\n",
            "F632\n",
            "F638\n",
            "F63C\n",
            "F618\n",
            "F60D\n",
            "F609\n",
            "F61B\n",
            "F61D\n",
            "F615\n",
            "F610\n",
            "F633\n",
            "F910\n",
            "F607\n",
            "F608\n",
            "F60E\n",
            "F62A\n",
            "F60F\n",
            "F635\n",
            "F928\n",
            "[62986, 62985, 63007, 62986, 62986, 62977, 63001, 62979, 62989, 63008, 62998, 63010, 63021, 63025, 63026, 63032, 63036, 63000, 62989, 62985, 63003, 63005, 62997, 62992, 63027, 63760, 62983, 62984, 62990, 63018, 62991, 63029, 63784]\n"
          ]
        }
      ],
      "source": [
        "emoji = {\":)\":\"😊\",\";-)\":\"😉\",\":(\":\"😟\",\":-]\":\"😊\",\":]\":\"😊\",\":->\":\"😁\",\":>\":\"😙\",\":‑D\":\"😃\",\"8‑D\":\"😍\",\":‑<\":\"😠\",\":{\":\"😖\",\":'‑(\":\"😢\",\":=(\":\"😭\",\"D;\":\"😱\",\":O\":\"😲\",\":-3\":\"😸\",\">:3\":\"😼\",\":-*\":\"😘\",\":×\":\"😍\",\";)\":\"😉\",\":P\":\"😛\",\"xp\":\"😝\",\":/\":\"😕\",\":|\":\"😐\",\":$\":\"😳\",\":X\":\"🤐\",\"O:)\":\"😇\",\">:)\":\"😈\",\"B-)\":\"😎\",\"|‑O\":\"😪\",\":‑J\":\"😏\",\"%)\":\"😵\",\",:-\\\\\":\"🤨\"}                                                                                                                                                                                                                    \n",
        "print(type(emoji))\n",
        "textEmojiExpression =[\"Positive\",\"Positive\",\"Negative\",\"Positive\",\"Positive\",\"Positive\",\"Positive\",\"Positive\",\"Positive\",\"Negative\",\"Negative\",\"Negative\",\"Negative\",\"Negative\",\"Negative\",\"Positive\",\"Negative\",\"Positive\",\"Positive\",\"Positive\",\"Positive\",\"Positive\",\"Negative\",\"Negative\",\"Negative\",\"Negative\",\"Positive\",\"Negative\",\"Positive\",\"Negative\",\"Positive\",\"Negative\",\"Negative\"]\n",
        "print(len(emoji))\n",
        "print(len(textEmojiExpression))\n",
        "data = []\n",
        "for x in emoji:\n",
        "  tempcode = emoji.get(x)\n",
        "  tempdata = f'U+{ord(tempcode):X}'\n",
        "  data.append(tempdata)\n",
        "\n",
        "# coversion into HexaDecimal\n",
        "count = 0;\n",
        "for i in data:\n",
        "  data[count] = i.replace(\"U+1\",\"\")\n",
        "  count = count + 1\n",
        "for i in data:\n",
        "  print(i) \n",
        "\n",
        "# reshape data and appendting in final list\n",
        "textdata = [int(x, 16) for x in data]\n",
        "#xdata = np.reshape(len(data),1)\n",
        "print(textdata)\n"
      ]
    },
    {
      "cell_type": "code",
      "execution_count": null,
      "metadata": {
        "colab": {
          "base_uri": "https://localhost:8080/"
        },
        "id": "u3y3rvCx_8hv",
        "outputId": "d22ae6cb-3e2d-4c10-bc41-8c05ffd0d0d9"
      },
      "outputs": [
        {
          "output_type": "stream",
          "name": "stderr",
          "text": [
            "/usr/local/lib/python3.7/dist-packages/ipykernel_launcher.py:4: FutureWarning: The default value of regex will change from True to False in a future version. In addition, single character regular expressions will *not* be treated as literal strings when regex=True.\n",
            "  after removing the cwd from sys.path.\n"
          ]
        }
      ],
      "source": [
        "temp = temp.str.slice(start=3)\n",
        "#temp = temp.str.replace(\"\",\"\")\n",
        "\n",
        "unicodes= unicodes.str.replace('+',\"000\")\n",
        "X_set = unicodes\n",
        "unicodes= unicodes.str.replace(\"U\",\"\\\\U\")\n",
        "\n",
        "#unicodes.str.replace('.',' ')"
      ]
    },
    {
      "cell_type": "code",
      "execution_count": null,
      "metadata": {
        "colab": {
          "base_uri": "https://localhost:8080/"
        },
        "id": "BgioE0aMANe9",
        "outputId": "493c4c72-952d-4f9c-d941-779388c5a280"
      },
      "outputs": [
        {
          "output_type": "stream",
          "name": "stdout",
          "text": [
            "<class 'pandas.core.series.Series'>\n",
            "<class 'pandas.core.series.Series'>\n"
          ]
        }
      ],
      "source": [
        "print(type(temp))\n",
        "print(type(unicodes))"
      ]
    },
    {
      "cell_type": "code",
      "execution_count": null,
      "metadata": {
        "colab": {
          "base_uri": "https://localhost:8080/"
        },
        "id": "D1ryRlZoGkw1",
        "outputId": "a6b20e30-3adb-4b80-d73b-5357506016fe"
      },
      "outputs": [
        {
          "output_type": "stream",
          "name": "stdout",
          "text": [
            "😀 😃 😄 😁 😆 😅 🤣 😂 🙂 🙃 😉 😊 😇 🥰 😍 🤩 😘 😗 😚 😙 😋 😛 😜 🤪 😝 🤑 🤗 🤭 🫢 🥲 😷 🤒 🤕 🤢 🤮 🤧 🥵 🥶 🥴 😵 🤠 🥳 🥸 😎 🤓 🧐 😕 🫤 😟 🙁 😮 😯 😳 🥺 🥹 😨 😧 😦 😰 😥 😢 😭 😱 😖 😣 😞 😓 😩 😫 🥱 😤 😡 😠 🤬 😈 👿 💀 🤡 👺 😺 😸 😹 😻 😼 😽 🙀 😿 😾 🙈 🙉 🙊 💋 💌 💘 💝 💖 💗 💓 💞 💕 💟 💔 🧡 💛 💚 💙 💜 🤎 🖤 🤍 💯 💢 💥 ☺ ☹ ☠ ❤ ❣ "
          ]
        }
      ],
      "source": [
        "#print(temp.encode().decode('unicode-escape'))\n",
        "#display(temp)\n",
        "#temp.replace(\"\\\\\",\"\",1)\n",
        "#display(\"\\U0001F600\")\n",
        "\n",
        "count = 0\n",
        "for x in unicodes:\n",
        "  print(x.encode().decode('unicode-escape'), end = \" \")\n",
        "  #count=count+1\n",
        "  #print(count)"
      ]
    },
    {
      "cell_type": "markdown",
      "source": [
        "#Predicted Output"
      ],
      "metadata": {
        "id": "V7PxX_8HYLHH"
      }
    },
    {
      "cell_type": "code",
      "source": [
        "count = 0\n",
        "for x in unicodes:\n",
        "  print(x.encode().decode('unicode-escape')+\" \"+expressions[count])\n",
        "  count+=1"
      ],
      "metadata": {
        "colab": {
          "base_uri": "https://localhost:8080/"
        },
        "id": "3Oz4gFnhtZIO",
        "outputId": "4b6c3ecd-1ea0-40ac-f2f0-9f9b417a6e86"
      },
      "execution_count": null,
      "outputs": [
        {
          "output_type": "stream",
          "name": "stdout",
          "text": [
            "😀 Positive\n",
            "😃 Positive\n",
            "😄 Positive\n",
            "😁 Positive\n",
            "😆 Positive\n",
            "😅 Positive\n",
            "🤣 Positive\n",
            "😂 Positive\n",
            "🙂 Positive\n",
            "🙃 Positive\n",
            "😉 Positive\n",
            "😊 Positive\n",
            "😇 Positive\n",
            "🥰 Positive\n",
            "😍 Positive\n",
            "🤩 Positive\n",
            "😘 Positive\n",
            "😗 Positive\n",
            "😚 Positive\n",
            "😙 Positive\n",
            "😋 Positive\n",
            "😛 Positive\n",
            "😜 Positive\n",
            "🤪 Positive\n",
            "😝 Positive\n",
            "🤑 Positive\n",
            "🤗 Positive\n",
            "🤭 Positive\n",
            "🫢 Positive\n",
            "🥲 Negative\n",
            "😷 Negative\n",
            "🤒 Negative\n",
            "🤕 Negative\n",
            "🤢 Negative\n",
            "🤮 Negative\n",
            "🤧 Negative\n",
            "🥵 Negative\n",
            "🥶 Negative\n",
            "🥴 Negative\n",
            "😵 Negative\n",
            "🤠 Positive\n",
            "🥳 Positive\n",
            "🥸 Positive\n",
            "😎 Positive\n",
            "🤓 Positive\n",
            "🧐 Positive\n",
            "😕 Negative\n",
            "🫤 Negative\n",
            "😟 Negative\n",
            "🙁 Negative\n",
            "😮 Negative\n",
            "😯 Negative\n",
            "😳 Negative\n",
            "🥺 Negative\n",
            "🥹 Positive\n",
            "😨 Negative\n",
            "😧 Negative\n",
            "😦 Negative\n",
            "😰 Negative\n",
            "😥 Negative\n",
            "😢 Negative\n",
            "😭 Negative\n",
            "😱 Negative\n",
            "😖 Negative\n",
            "😣 Negative\n",
            "😞 Negative\n",
            "😓 Negative\n",
            "😩 Negative\n",
            "😫 Negative\n",
            "🥱 Negative\n",
            "😤 Negative\n",
            "😡 Negative\n",
            "😠 Negative\n",
            "🤬 Negative\n",
            "😈 Negative\n",
            "👿 Negative\n",
            "💀 Negative\n",
            "🤡 Positive\n",
            "👺 Negative\n",
            "😺 Positive\n",
            "😸 Positive\n",
            "😹 Positive\n",
            "😻 Positive\n",
            "😼 Positive\n",
            "😽 Positive\n",
            "🙀 Positive\n",
            "😿 Negative\n",
            "😾 Negative\n",
            "🙈 Positive\n",
            "🙉 Positive\n",
            "🙊 Positive\n",
            "💋 Positive\n",
            "💌 Positive\n",
            "💘 Positive\n",
            "💝 Positive\n",
            "💖 Positive\n",
            "💗 Positive\n",
            "💓 Positive\n",
            "💞 Positive\n",
            "💕 Positive\n",
            "💟 Positive\n",
            "💔 Negative\n",
            "🧡 Positive\n",
            "💛 Positive\n",
            "💚 Positive\n",
            "💙 Positive\n",
            "💜 Positive\n",
            "🤎 Positive\n",
            "🖤 Positive\n",
            "🤍 Positive\n",
            "💯 Positive\n",
            "💢 Negative\n",
            "💥 Negative\n",
            "☺ Positive\n",
            "☹ Negative\n",
            "☠ Negative\n",
            "❤ Positive\n",
            "❣ Positive\n"
          ]
        }
      ]
    },
    {
      "cell_type": "markdown",
      "metadata": {
        "id": "WKJ_C46tL06Q"
      },
      "source": [
        "Hex to Int Conversion"
      ]
    },
    {
      "cell_type": "code",
      "execution_count": null,
      "metadata": {
        "id": "ecTZrhCyLzws"
      },
      "outputs": [],
      "source": [
        "xdata = [int(x, 16) for x in temp]\n",
        "xdata = np.reshape(len(temp),1)\n",
        "finalList =[]\n",
        "for x in temp :\n",
        "  finalList.append(int(x,16))"
      ]
    },
    {
      "cell_type": "code",
      "source": [
        "print(type(finalList))\n",
        "print(type(expressions))"
      ],
      "metadata": {
        "colab": {
          "base_uri": "https://localhost:8080/"
        },
        "id": "U8W_dxFQ05K5",
        "outputId": "e5f178f7-e766-474e-e64c-550e5f2a81bd"
      },
      "execution_count": null,
      "outputs": [
        {
          "output_type": "stream",
          "name": "stdout",
          "text": [
            "<class 'list'>\n",
            "<class 'pandas.core.series.Series'>\n"
          ]
        }
      ]
    },
    {
      "cell_type": "markdown",
      "source": [
        "#Check this\n",
        "#Expressions Addition for Text Data"
      ],
      "metadata": {
        "id": "iMdo7d3n5LSP"
      }
    },
    {
      "cell_type": "code",
      "source": [
        "print(len(expressions))\n",
        "print(len(textEmojiExpression))\n",
        "textEmojiExpression = pd.Series(textEmojiExpression)\n",
        "#for x in textEmojiExpression:\n",
        "#expressions.concat(textEmojiExpression).\n",
        "L=[textEmojiExpression,expressions]\n",
        "expressions = pd.concat([expressions,textEmojiExpression])\n",
        "print(len(expressions))"
      ],
      "metadata": {
        "colab": {
          "base_uri": "https://localhost:8080/"
        },
        "id": "FLsktqoC-dqy",
        "outputId": "d1e29d55-7d35-4390-d99b-44d41b4ddb89"
      },
      "execution_count": null,
      "outputs": [
        {
          "output_type": "stream",
          "name": "stdout",
          "text": [
            "118\n",
            "33\n",
            "151\n"
          ]
        }
      ]
    },
    {
      "cell_type": "markdown",
      "source": [
        "#Unicode Data Addition of Emoji"
      ],
      "metadata": {
        "id": "hifLN7trsofB"
      }
    },
    {
      "cell_type": "code",
      "source": [
        "def Cloning(li1):\n",
        "    li_copy = li1[:]\n",
        "    return li_copy\n",
        "finalList1=Cloning(finalList)\n",
        "textEmojiExpression = pd.Series(textEmojiExpression)\n",
        "count = 0\n",
        "for x in textdata :\n",
        "  finalList.append(x)  # think here finalist1 changed\n",
        "  \n",
        "\n",
        "print(len(finalList))\n",
        " \n",
        "#expressions.append(textEmojiExpression)\n",
        "#finalList = np.reshape(finalList,(len(finalList),1)) #finalList1\n",
        "#finalList = np.reshape(expressions,(len(expressions),1))\n"
      ],
      "metadata": {
        "colab": {
          "base_uri": "https://localhost:8080/"
        },
        "id": "gGIeuSQFsvg5",
        "outputId": "ce898f5a-e3e5-452f-b5c6-955c0a8b1c76"
      },
      "execution_count": null,
      "outputs": [
        {
          "output_type": "stream",
          "name": "stdout",
          "text": [
            "151\n"
          ]
        }
      ]
    },
    {
      "cell_type": "code",
      "source": [
        "print(type(expressions))\n",
        "print(type(finalList))"
      ],
      "metadata": {
        "colab": {
          "base_uri": "https://localhost:8080/"
        },
        "id": "a0RgK4t59jTO",
        "outputId": "af92769f-7824-4f4d-d15f-f9a4eb3c741b"
      },
      "execution_count": null,
      "outputs": [
        {
          "output_type": "stream",
          "name": "stdout",
          "text": [
            "<class 'pandas.core.series.Series'>\n",
            "<class 'list'>\n"
          ]
        }
      ]
    },
    {
      "cell_type": "code",
      "execution_count": null,
      "metadata": {
        "id": "aCc0H2j_OGvs",
        "colab": {
          "base_uri": "https://localhost:8080/"
        },
        "outputId": "cc44b76f-d825-47e7-bd91-c1611764f02a"
      },
      "outputs": [
        {
          "output_type": "stream",
          "name": "stdout",
          "text": [
            "62629\n",
            "<class 'numpy.ndarray'>\n"
          ]
        }
      ],
      "source": [
        "print(int(\"F4A5\", 16))\n",
        "\n",
        "finalList = np.reshape(finalList,(len(finalList),1))\n",
        "print(type(finalList))\n",
        "#print(finalList)\n",
        "#finalList=np.reshape(len(finalList),1)"
      ]
    },
    {
      "cell_type": "markdown",
      "metadata": {
        "id": "Bwhz9CGccwjh"
      },
      "source": [
        "# Scalling Data"
      ]
    },
    {
      "cell_type": "code",
      "execution_count": null,
      "metadata": {
        "colab": {
          "base_uri": "https://localhost:8080/"
        },
        "id": "pOKaEvrApN1t",
        "outputId": "04393336-4464-4c58-dbc2-fd4a0dc3c4d4"
      },
      "outputs": [
        {
          "output_type": "stream",
          "name": "stdout",
          "text": [
            "118\n"
          ]
        }
      ],
      "source": [
        "from sklearn.preprocessing import StandardScaler\n",
        "sc = StandardScaler()\n",
        "len(finalList)\n",
        "X_train = sc.fit_transform(finalList)\n",
        "X_test = sc.transform(finalList) #finalList1\n",
        "len(finalList)\n",
        "print(len(expressions))\n",
        "#X_train2 = sc.fit_transform(text)\n",
        "#y_test = sc.transform(textExpression)"
      ]
    },
    {
      "cell_type": "code",
      "execution_count": null,
      "metadata": {
        "colab": {
          "base_uri": "https://localhost:8080/"
        },
        "id": "tpJfHG8Kd3uN",
        "outputId": "91f4c5a4-d24b-4cdb-e291-9da3c6d489b1"
      },
      "outputs": [
        {
          "output_type": "stream",
          "name": "stdout",
          "text": [
            "[0.19258112] [0.19286049] [0.19295361] [0.19267424] [0.19313985] [0.19304673] [0.26735782] [0.19276737] [0.19872715] [0.19882027] [0.19341922] [0.19351234] [0.19323297] [0.27452819] [0.1937917] [0.26791655] [0.19481604] [0.19472292] [0.19500229] [0.19490916] [0.19360546] [0.19509541] [0.19518853] [0.26800967] [0.19528165] [0.26568163] [0.26624036] [0.26828903] [0.3089832] [0.27471443] [0.19770281] [0.26577475] [0.26605411] [0.2672647] [0.26838216] [0.2677303] [0.27499379] [0.27508692] [0.27490067] [0.19751657] [0.26707845] [0.27480755] [0.27527316] [0.19388483] [0.26586787] [0.28346787] [0.19453668] [0.30916944] [0.19546789] [0.19863403] [0.19686472] [0.19695784] [0.19733033] [0.2754594] [0.27536628] [0.19630599] [0.19621287] [0.19611975] [0.19705096] [0.19602662] [0.19574726] [0.1967716] [0.19714408] [0.1946298] [0.19584038] [0.19537477] [0.19435043] [0.19639911] [0.19658535] [0.27462131] [0.1959335] [0.19565414] [0.19556102] [0.26819591] [0.1933261] [0.15672928] [0.1568224] [0.26717157] [0.15626367] [0.19798218] [0.19779594] [0.19788906] [0.1980753] [0.19816842] [0.19826154] [0.19854091] [0.19844779] [0.19835467] [0.19928588] [0.199379] [0.19947213] [0.15784674] [0.15793986] [0.15905732] [0.15952293] [0.15887108] [0.1589642] [0.15859172] [0.15961605] [0.15877796] [0.15970918] [0.15868484] [0.28505093] [0.15933669] [0.15924357] [0.15915045] [0.15942981] [0.26540226] [0.18401393] [0.26530914] [0.16119912] [0.15998854] [0.16026791] [-4.76056012] [-4.76065324] [-4.76298128] [-4.73280987] [-4.73290299]\n"
          ]
        }
      ],
      "source": [
        "print(*X_test)"
      ]
    },
    {
      "cell_type": "markdown",
      "metadata": {
        "id": "E1cQ2p0bkWPf"
      },
      "source": [
        "# Training KNN Model"
      ]
    },
    {
      "cell_type": "code",
      "execution_count": null,
      "metadata": {
        "colab": {
          "base_uri": "https://localhost:8080/"
        },
        "id": "OZzCTgHZqQxO",
        "outputId": "e46ca7b7-b2db-43b1-a449-44aef9eb5da7"
      },
      "outputs": [
        {
          "output_type": "execute_result",
          "data": {
            "text/plain": [
              "KNeighborsClassifier(n_neighbors=3)"
            ]
          },
          "metadata": {},
          "execution_count": 14
        }
      ],
      "source": [
        "from sklearn.neighbors import KNeighborsClassifier\n",
        "classifier = KNeighborsClassifier(n_neighbors = 3, metric = 'minkowski', p = 2)\n",
        "classifier.fit(X_train,expressions.astype('category'))"
      ]
    },
    {
      "cell_type": "markdown",
      "metadata": {
        "id": "yis6IR1IkZfG"
      },
      "source": [
        "# Predicting Values"
      ]
    },
    {
      "cell_type": "code",
      "execution_count": null,
      "metadata": {
        "id": "aQ_R4SRXqWu7"
      },
      "outputs": [],
      "source": [
        "y_pred = classifier.predict(X_test) #X_test\n",
        "#print(np.concatenate((y_pred.reshape(len(y_pred),1), y_test.reshape(len(y_test),1)),1))"
      ]
    },
    {
      "cell_type": "markdown",
      "metadata": {
        "id": "-GAl_Yzukc-1"
      },
      "source": [
        "#Printing Predicted Value"
      ]
    },
    {
      "cell_type": "code",
      "execution_count": null,
      "metadata": {
        "colab": {
          "base_uri": "https://localhost:8080/",
          "height": 1000
        },
        "id": "zE11MpXtTuY1",
        "outputId": "b3b651bc-fcc6-4599-942f-4c5462b3db70"
      },
      "outputs": [
        {
          "output_type": "stream",
          "name": "stdout",
          "text": [
            "😀 Positive\n",
            "😃 Positive\n",
            "😄 Positive\n",
            "😁 Positive\n",
            "😆 Positive\n",
            "😅 Positive\n",
            "🤣 Positive\n",
            "😂 Positive\n",
            "🙂 Positive\n",
            "🙃 Positive\n",
            "😉 Positive\n",
            "😊 Positive\n",
            "😇 Positive\n",
            "🥰 Negative\n",
            "😍 Positive\n",
            "🤩 Positive\n",
            "😘 Positive\n",
            "😗 Positive\n",
            "😚 Positive\n",
            "😙 Positive\n",
            "😋 Positive\n",
            "😛 Positive\n",
            "😜 Positive\n",
            "🤪 Positive\n",
            "😝 Positive\n",
            "🤑 Positive\n",
            "🤗 Positive\n",
            "🤭 Negative\n",
            "🫢 Positive\n",
            "🥲 Negative\n",
            "😷 Negative\n",
            "🤒 Positive\n",
            "🤕 Positive\n",
            "🤢 Positive\n",
            "🤮 Negative\n",
            "🤧 Positive\n",
            "🥵 Negative\n",
            "🥶 Negative\n",
            "🥴 Negative\n",
            "😵 Negative\n",
            "🤠 Positive\n",
            "🥳 Negative\n",
            "🥸 Positive\n",
            "😎 Positive\n",
            "🤓 Negative\n",
            "🧐 Positive\n",
            "😕 Negative\n",
            "🫤 Positive\n",
            "😟 Negative\n",
            "🙁 Positive\n",
            "😮 Negative\n",
            "😯 Negative\n",
            "😳 Negative\n",
            "🥺 Positive\n",
            "🥹 Positive\n",
            "😨 Negative\n",
            "😧 Negative\n",
            "😦 Negative\n",
            "😰 Negative\n",
            "😥 Negative\n",
            "😢 Negative\n",
            "😭 Negative\n",
            "😱 Negative\n",
            "😖 Negative\n",
            "😣 Negative\n",
            "😞 Negative\n",
            "😓 Negative\n",
            "😩 Negative\n",
            "😫 Negative\n",
            "🥱 Negative\n",
            "😤 Negative\n",
            "😡 Negative\n",
            "😠 Negative\n",
            "🤬 Negative\n",
            "😈 Positive\n",
            "👿 Negative\n",
            "💀 Negative\n",
            "🤡 Positive\n",
            "👺 Negative\n",
            "😺 Positive\n",
            "😸 Positive\n",
            "😹 Positive\n",
            "😻 Positive\n",
            "😼 Positive\n",
            "😽 Positive\n",
            "🙀 Negative\n",
            "😿 Negative\n",
            "😾 Negative\n",
            "🙈 Positive\n",
            "🙉 Positive\n",
            "🙊 Positive\n",
            "💋 Positive\n",
            "💌 Positive\n",
            "💘 Positive\n",
            "💝 Positive\n",
            "💖 Positive\n",
            "💗 Positive\n",
            "💓 Positive\n",
            "💞 Positive\n",
            "💕 Positive\n",
            "💟 Positive\n",
            "💔 Positive\n",
            "🧡 Positive\n",
            "💛 Positive\n",
            "💚 Positive\n",
            "💙 Positive\n",
            "💜 Positive\n",
            "🤎 Positive\n",
            "🖤 Positive\n",
            "🤍 Positive\n",
            "💯 Negative\n",
            "💢 Negative\n",
            "💥 Negative\n",
            "☺ Negative\n",
            "☹ Negative\n",
            "☠ Negative\n",
            "❤ Positive\n",
            "❣ Positive\n"
          ]
        },
        {
          "output_type": "execute_result",
          "data": {
            "application/vnd.google.colaboratory.intrinsic+json": {
              "type": "string"
            },
            "text/plain": [
              "'count = 0\\nfor x in range(count, len(y_pred)):\\n  print(\" \"+y_pred[x])'"
            ]
          },
          "metadata": {},
          "execution_count": 16
        }
      ],
      "source": [
        "count = 0\n",
        "for x in unicodes:\n",
        "  print(x.encode().decode('unicode-escape')+\" \"+y_pred[count])\n",
        "  count=count+1\n",
        "\n",
        "'''count = 0\n",
        "for x in range(count, len(y_pred)):\n",
        "  print(\" \"+y_pred[x])'''"
      ]
    },
    {
      "cell_type": "code",
      "source": [
        "print(type(finalList))\n",
        "print(type(expressions))\n",
        "print(type(X_train))\n",
        "print(type(X_test))"
      ],
      "metadata": {
        "colab": {
          "base_uri": "https://localhost:8080/"
        },
        "outputId": "838f8d34-d463-46dd-c450-899f600f6f96",
        "id": "beRK8QLl1cYp"
      },
      "execution_count": null,
      "outputs": [
        {
          "output_type": "stream",
          "name": "stdout",
          "text": [
            "<class 'numpy.ndarray'>\n",
            "<class 'pandas.core.series.Series'>\n",
            "<class 'numpy.ndarray'>\n",
            "<class 'numpy.ndarray'>\n"
          ]
        }
      ]
    },
    {
      "cell_type": "markdown",
      "metadata": {
        "id": "NIpyBOUunEQ7"
      },
      "source": [
        "#Direct Input"
      ]
    },
    {
      "cell_type": "code",
      "execution_count": null,
      "metadata": {
        "colab": {
          "base_uri": "https://localhost:8080/"
        },
        "id": "jfSbLbL6mrzP",
        "outputId": "591e5178-e8cc-495b-c989-ef2b074c0e2b"
      },
      "outputs": [
        {
          "output_type": "stream",
          "name": "stdout",
          "text": [
            "U+1F600\n",
            "U+1F633\n",
            "U+1F62B\n",
            "U+1F637\n",
            "U+1F630\n",
            "U+1F635\n"
          ]
        }
      ],
      "source": [
        "s = ['😀','😳','😫','😷','😰','😵']\n",
        "for x in s :\n",
        "  print(f'U+{ord(x):X}')"
      ]
    },
    {
      "cell_type": "code",
      "execution_count": null,
      "metadata": {
        "colab": {
          "base_uri": "https://localhost:8080/"
        },
        "id": "M6myP3KLcZxN",
        "outputId": "0bb28adb-7d51-4ec3-ee18-d8c9c2d27f0d"
      },
      "outputs": [
        {
          "output_type": "stream",
          "name": "stdout",
          "text": [
            "<class 'pandas.core.series.Series'>\n",
            "<class 'numpy.ndarray'>\n",
            "<class 'numpy.ndarray'>\n"
          ]
        }
      ],
      "source": [
        "#print(expressions.astype('category'))\n",
        "expressions = expressions.replace(\"Positive\",1)\n",
        "expressions = expressions.replace(\"Negative\",0)\n",
        "print(type(expressions))\n",
        "print(type(X_train))\n",
        "print(type(X_test))\n"
      ]
    },
    {
      "cell_type": "markdown",
      "metadata": {
        "id": "cQzJaCJcbhre"
      },
      "source": [
        "#KNN without sklearn"
      ]
    },
    {
      "cell_type": "code",
      "source": [
        "import numpy as np\n",
        "from collections import Counter\n",
        "\n",
        "def euclidean_distance(x1, x2):\n",
        "    return np.sqrt(np.sum((x1 - x2) ** 2))\n",
        "\n",
        "\n",
        "class KNN:\n",
        "    def __init__(self, k=3):\n",
        "        self.k = k\n",
        "\n",
        "    def fit(self, X, y):\n",
        "        self.X_train = X\n",
        "        self.y_train = y\n",
        "\n",
        "    def predict(self, X):\n",
        "        y_pred = [self._predict(x) for x in X]\n",
        "        return np.array(y_pred)\n",
        "\n",
        "    def _predict(self, x):\n",
        "        # Compute distances between x and all examples in the training set\n",
        "        distances = [euclidean_distance(x, x_train) for x_train in self.X_train]\n",
        "        # Sort by distance and return indices of the first k neighbors\n",
        "        k_idx = np.argsort(distances)[: self.k]\n",
        "        print(k_idx)\n",
        "        # Extract the labels of the k nearest neighbor training samples\n",
        "        k_neighbor_labels = [self.y_train[i] for i in k_idx]\n",
        "        # return the most common class label\n",
        "        most_common = Counter(k_neighbor_labels).most_common(1)\n",
        "        return most_common[0][0]\n",
        "\n",
        "\n",
        "if __name__ == \"__main__\":\n",
        "    def accuracy(y_true, y_pred):\n",
        "        accuracy = np.sum(y_true == y_pred) / len(y_true)\n",
        "        return accuracy\n",
        "\n",
        "    X, y = X_train,expressions \n",
        "    print(len(X_train))\n",
        "    print(len(expressions))\n",
        "    k = 3\n",
        "    clf = KNN(k=k)\n",
        "    clf.fit(X, y)\n",
        "    predictions = clf.predict(X_test)\n",
        "    print(\"KNN classification accuracy\", accuracy(y, predictions))"
      ],
      "metadata": {
        "colab": {
          "base_uri": "https://localhost:8080/"
        },
        "id": "KuJzv-GTwBcX",
        "outputId": "4a9598e0-f288-42c8-88ab-465c7ed16ce4"
      },
      "execution_count": null,
      "outputs": [
        {
          "output_type": "stream",
          "name": "stdout",
          "text": [
            "118\n",
            "118\n",
            "[0 3 7]\n",
            "[1 2 7]\n",
            "[2 1 5]\n",
            "[3 0 7]\n",
            "[ 4  5 12]\n",
            "[5 4 2]\n",
            "[ 6 33 77]\n",
            "[7 3 1]\n",
            "[ 8  9 49]\n",
            "[ 9  8 49]\n",
            "[10 11 74]\n",
            "[11 20 10]\n",
            "[12 74  4]\n",
            "[13 69 29]\n",
            "[14 43 20]\n",
            "[15 23 35]\n",
            "[16 17 19]\n",
            "[17 16 63]\n",
            "[18 19 21]\n",
            "[19 18 16]\n",
            "[20 11 10]\n",
            "[21 22 18]\n",
            "[22 24 21]\n",
            "[23 15 73]\n",
            "[24 22 65]\n",
            "[25 31 44]\n",
            "[26 32 44]\n",
            "[27 73 34]\n",
            "[ 28  47 102]\n",
            "[29 69 41]\n",
            "[30 80 39]\n",
            "[31 25 44]\n",
            "[32 44 26]\n",
            "[33  6 77]\n",
            "[34 27 73]\n",
            "[35 15 23]\n",
            "[36 38 37]\n",
            "[37 36 38]\n",
            "[38 36 41]\n",
            "[39 52 30]\n",
            "[40 77 33]\n",
            "[41 29 38]\n",
            "[42 54 53]\n",
            "[43 14 20]\n",
            "[44 31 32]\n",
            "[ 45 102  53]\n",
            "[46 63 66]\n",
            "[ 47  28 102]\n",
            "[48 65 72]\n",
            "[49 85  8]\n",
            "[50 61 51]\n",
            "[51 50 58]\n",
            "[52 62 39]\n",
            "[53 54 42]\n",
            "[54 42 53]\n",
            "[55 56 67]\n",
            "[56 55 57]\n",
            "[57 59 56]\n",
            "[58 62 51]\n",
            "[59 57 70]\n",
            "[60 64 71]\n",
            "[61 50 51]\n",
            "[62 58 52]\n",
            "[63 46 17]\n",
            "[64 60 70]\n",
            "[65 48 24]\n",
            "[66 46 63]\n",
            "[67 55 56]\n",
            "[68 61 67]\n",
            "[69 29 13]\n",
            "[70 59 64]\n",
            "[71 72 60]\n",
            "[72 71 48]\n",
            "[73 27 34]\n",
            "[74 12 10]\n",
            "[75 76 78]\n",
            "[76 75 78]\n",
            "[77 33 40]\n",
            "[78 75 76]\n",
            "[79 81 82]\n",
            "[80 30 81]\n",
            "[81 79 80]\n",
            "[82 83 79]\n",
            "[83 82 84]\n",
            "[84 87 83]\n",
            "[85 49 86]\n",
            "[86 85 87]\n",
            "[87 84 86]\n",
            "[88 89 90]\n",
            "[89 88 90]\n",
            "[90 89 88]\n",
            "[91 92 97]\n",
            "[92 91 97]\n",
            "[ 93  96 105]\n",
            "[ 94  98 106]\n",
            "[95 96 99]\n",
            "[96 93 95]\n",
            "[ 97 101  99]\n",
            "[ 98  94 100]\n",
            "[ 99 101  95]\n",
            "[100  98  94]\n",
            "[101  99  97]\n",
            "[102  45  53]\n",
            "[103 106 104]\n",
            "[104 105 103]\n",
            "[105 104  93]\n",
            "[106 103  94]\n",
            "[107 109  25]\n",
            "[108   0   3]\n",
            "[109 107  25]\n",
            "[110 112 111]\n",
            "[111 100 112]\n",
            "[112 111 100]\n",
            "[113 114 115]\n",
            "[114 113 115]\n",
            "[115 114 113]\n",
            "[116 117 113]\n",
            "[117 116 113]\n",
            "KNN classification accuracy 0.864406779661017\n"
          ]
        }
      ]
    },
    {
      "cell_type": "markdown",
      "source": [
        "#Expected and Result"
      ],
      "metadata": {
        "id": "opCxTCxB1jpg"
      }
    },
    {
      "cell_type": "code",
      "source": [
        "print(*predictions)\n",
        "print(*expressions)"
      ],
      "metadata": {
        "colab": {
          "base_uri": "https://localhost:8080/"
        },
        "id": "t0UGGHc31njw",
        "outputId": "7f61bff8-5610-4929-88a9-7892fa7c04ba"
      },
      "execution_count": null,
      "outputs": [
        {
          "output_type": "stream",
          "name": "stdout",
          "text": [
            "1 1 1 1 1 1 1 1 1 1 1 1 1 0 1 1 1 1 1 1 1 1 1 1 1 1 1 0 1 0 0 1 1 1 0 1 0 0 0 0 1 0 1 1 0 1 0 1 0 1 0 0 0 1 1 0 0 0 0 0 0 0 0 0 0 0 0 0 0 0 0 0 0 0 1 0 0 1 0 1 1 1 1 1 1 0 0 0 1 1 1 1 1 1 1 1 1 1 1 1 1 1 1 1 1 1 1 1 1 1 0 0 0 0 0 0 1 1\n",
            "1 1 1 1 1 1 1 1 1 1 1 1 1 1 1 1 1 1 1 1 1 1 1 1 1 1 1 1 1 0 0 0 0 0 0 0 0 0 0 0 1 1 1 1 1 1 0 0 0 0 0 0 0 0 1 0 0 0 0 0 0 0 0 0 0 0 0 0 0 0 0 0 0 0 0 0 0 1 0 1 1 1 1 1 1 1 0 0 1 1 1 1 1 1 1 1 1 1 1 1 1 0 1 1 1 1 1 1 1 1 1 0 0 1 0 0 1 1\n"
          ]
        }
      ]
    },
    {
      "cell_type": "markdown",
      "metadata": {
        "id": "3OsBiPXYZCe9"
      },
      "source": [
        "#Confusion Matrix and Accuracy"
      ]
    },
    {
      "cell_type": "code",
      "execution_count": null,
      "metadata": {
        "colab": {
          "base_uri": "https://localhost:8080/"
        },
        "id": "B3Sn8fzdYHtK",
        "outputId": "26735f01-cd09-4046-afaf-7477c784254e"
      },
      "outputs": [
        {
          "output_type": "stream",
          "name": "stdout",
          "text": [
            "Confusion Matrix : \n",
            " [[40  9]\n",
            " [ 7 62]]\n",
            "Accuracy is : 0.864406779661017\n"
          ]
        }
      ],
      "source": [
        "from sklearn.metrics import confusion_matrix, accuracy_score\n",
        "cm = confusion_matrix(expressions,predictions)\n",
        "print(\"Confusion Matrix : \\n\",cm)\n",
        "\n",
        "print(\"Accuracy is :\",accuracy_score(expressions, predictions))\n"
      ]
    },
    {
      "cell_type": "markdown",
      "source": [
        "#conversion of Result to Expected Formate"
      ],
      "metadata": {
        "id": "GatbBRJE0uib"
      }
    },
    {
      "cell_type": "code",
      "execution_count": null,
      "metadata": {
        "id": "8KGg3_5ObfSI",
        "colab": {
          "base_uri": "https://localhost:8080/"
        },
        "outputId": "79d2c9bb-1c4c-4d97-f694-ae1c554c6cf6"
      },
      "outputs": [
        {
          "output_type": "stream",
          "name": "stdout",
          "text": [
            "0      Positive\n",
            "1      Positive\n",
            "2      Positive\n",
            "3      Positive\n",
            "4      Positive\n",
            "         ...   \n",
            "113    Positive\n",
            "114    Negative\n",
            "115    Negative\n",
            "116    Positive\n",
            "117    Positive\n",
            "Name: Expression, Length: 118, dtype: object\n",
            "0      Positive\n",
            "1      Positive\n",
            "2      Positive\n",
            "3      Positive\n",
            "4      Positive\n",
            "         ...   \n",
            "113    Negative\n",
            "114    Negative\n",
            "115    Negative\n",
            "116    Positive\n",
            "117    Positive\n",
            "Length: 118, dtype: object\n"
          ]
        }
      ],
      "source": [
        "expressions = expressions.replace(1,\"Positive\")\n",
        "expressions = expressions.replace(0,\"Negative\")\n",
        "print(expressions)\n",
        "predictions = pd.Series(predictions) \n",
        "predictions = predictions.replace(1,\"Positive\")\n",
        "predictions = predictions.replace(0,\"Negative\")\n",
        "print(predictions)"
      ]
    },
    {
      "cell_type": "markdown",
      "source": [
        "#Predicted Output"
      ],
      "metadata": {
        "id": "DSCr6UUz2ysm"
      }
    },
    {
      "cell_type": "code",
      "source": [
        "count = 0\n",
        "for x in unicodes:\n",
        "  print(x.encode().decode('unicode-escape')+\" \"+predictions[count])\n",
        "  count=count+1"
      ],
      "metadata": {
        "colab": {
          "base_uri": "https://localhost:8080/"
        },
        "id": "ac6VLKqM24Ui",
        "outputId": "6b76e219-c176-41f0-c9c7-0c4de22de269"
      },
      "execution_count": null,
      "outputs": [
        {
          "output_type": "stream",
          "name": "stdout",
          "text": [
            "😀 Positive\n",
            "😃 Positive\n",
            "😄 Positive\n",
            "😁 Positive\n",
            "😆 Positive\n",
            "😅 Positive\n",
            "🤣 Positive\n",
            "😂 Positive\n",
            "🙂 Positive\n",
            "🙃 Positive\n",
            "😉 Positive\n",
            "😊 Positive\n",
            "😇 Positive\n",
            "🥰 Negative\n",
            "😍 Positive\n",
            "🤩 Positive\n",
            "😘 Positive\n",
            "😗 Positive\n",
            "😚 Positive\n",
            "😙 Positive\n",
            "😋 Positive\n",
            "😛 Positive\n",
            "😜 Positive\n",
            "🤪 Positive\n",
            "😝 Positive\n",
            "🤑 Positive\n",
            "🤗 Positive\n",
            "🤭 Negative\n",
            "🫢 Positive\n",
            "🥲 Negative\n",
            "😷 Negative\n",
            "🤒 Positive\n",
            "🤕 Positive\n",
            "🤢 Positive\n",
            "🤮 Negative\n",
            "🤧 Positive\n",
            "🥵 Negative\n",
            "🥶 Negative\n",
            "🥴 Negative\n",
            "😵 Negative\n",
            "🤠 Positive\n",
            "🥳 Negative\n",
            "🥸 Positive\n",
            "😎 Positive\n",
            "🤓 Negative\n",
            "🧐 Positive\n",
            "😕 Negative\n",
            "🫤 Positive\n",
            "😟 Negative\n",
            "🙁 Positive\n",
            "😮 Negative\n",
            "😯 Negative\n",
            "😳 Negative\n",
            "🥺 Positive\n",
            "🥹 Positive\n",
            "😨 Negative\n",
            "😧 Negative\n",
            "😦 Negative\n",
            "😰 Negative\n",
            "😥 Negative\n",
            "😢 Negative\n",
            "😭 Negative\n",
            "😱 Negative\n",
            "😖 Negative\n",
            "😣 Negative\n",
            "😞 Negative\n",
            "😓 Negative\n",
            "😩 Negative\n",
            "😫 Negative\n",
            "🥱 Negative\n",
            "😤 Negative\n",
            "😡 Negative\n",
            "😠 Negative\n",
            "🤬 Negative\n",
            "😈 Positive\n",
            "👿 Negative\n",
            "💀 Negative\n",
            "🤡 Positive\n",
            "👺 Negative\n",
            "😺 Positive\n",
            "😸 Positive\n",
            "😹 Positive\n",
            "😻 Positive\n",
            "😼 Positive\n",
            "😽 Positive\n",
            "🙀 Negative\n",
            "😿 Negative\n",
            "😾 Negative\n",
            "🙈 Positive\n",
            "🙉 Positive\n",
            "🙊 Positive\n",
            "💋 Positive\n",
            "💌 Positive\n",
            "💘 Positive\n",
            "💝 Positive\n",
            "💖 Positive\n",
            "💗 Positive\n",
            "💓 Positive\n",
            "💞 Positive\n",
            "💕 Positive\n",
            "💟 Positive\n",
            "💔 Positive\n",
            "🧡 Positive\n",
            "💛 Positive\n",
            "💚 Positive\n",
            "💙 Positive\n",
            "💜 Positive\n",
            "🤎 Positive\n",
            "🖤 Positive\n",
            "🤍 Positive\n",
            "💯 Negative\n",
            "💢 Negative\n",
            "💥 Negative\n",
            "☺ Negative\n",
            "☹ Negative\n",
            "☠ Negative\n",
            "❤ Positive\n",
            "❣ Positive\n"
          ]
        }
      ]
    },
    {
      "cell_type": "code",
      "source": [
        "plt.scatter(\n",
        "    X_test,\n",
        "   predictions,\n",
        "    cmap='coolwarm',\n",
        "    alpha=0.7\n",
        ")\n"
      ],
      "metadata": {
        "colab": {
          "base_uri": "https://localhost:8080/",
          "height": 282
        },
        "id": "WRFs-mZEj0is",
        "outputId": "ff482c7b-8aa4-49d4-d564-fc33198c5a0f"
      },
      "execution_count": null,
      "outputs": [
        {
          "output_type": "execute_result",
          "data": {
            "text/plain": [
              "<matplotlib.collections.PathCollection at 0x7f654e9dde10>"
            ]
          },
          "metadata": {},
          "execution_count": 25
        },
        {
          "output_type": "display_data",
          "data": {
            "image/png": "[encoded data removed]",
            "text/plain": [
              "<Figure size 432x288 with 1 Axes>"
            ]
          },
          "metadata": {
            "needs_background": "light"
          }
        }
      ]
    },
    {
      "cell_type": "code",
      "source": [
        "plt.scatter(\n",
        "    finalList,\n",
        "   expressions,\n",
        "    cmap='coolwarm',\n",
        "    alpha=0.7\n",
        ")"
      ],
      "metadata": {
        "colab": {
          "base_uri": "https://localhost:8080/",
          "height": 282
        },
        "id": "e50MXzbEkmL1",
        "outputId": "b5cc247d-1229-491b-b91b-443bb82ab20d"
      },
      "execution_count": null,
      "outputs": [
        {
          "output_type": "execute_result",
          "data": {
            "text/plain": [
              "<matplotlib.collections.PathCollection at 0x7f654e952190>"
            ]
          },
          "metadata": {},
          "execution_count": 26
        },
        {
          "output_type": "display_data",
          "data": {
            "image/png": "[encoded data removed]",
            "text/plain": [
              "<Figure size 432x288 with 1 Axes>"
            ]
          },
          "metadata": {
            "needs_background": "light"
          }
        }
      ]
    },
    {
      "cell_type": "markdown",
      "metadata": {
        "id": "6GGb74UNZrmH"
      },
      "source": [
        "Graph"
      ]
    },
    {
      "cell_type": "code",
      "execution_count": null,
      "metadata": {
        "id": "7iZ7y5HrZtnA"
      },
      "outputs": [],
      "source": [
        "from matplotlib.colors import ListedColormap\n",
        "X = sc.inverse_transform(X_train)\n",
        "y = y_pred\n",
        "h = .3  # step size in the mesh\n",
        "\n",
        "# Calculate min, max and limits\n",
        "x_min, x_max = X[:, 0].min() - 1, X[:, 0].max() + 1\n",
        "y_min, y_max = X[:, 0].min() - 1, X[:, 0].max() + 1\n",
        "xx, yy = np.meshgrid(np.arange(x_min, x_max, h), np.arange(y_min, y_max, h))\n",
        "\n",
        "# Put the result into a color plot\n",
        "plt.figure()\n",
        "plt.scatter(X[:, 0], X[:, 0])\n",
        "plt.xlim(xx.min(), xx.max())\n",
        "plt.ylim(yy.min(), yy.max())\n",
        "plt.title(\"Data points\")\n",
        "plt.show()\n"
      ]
    },
    {
      "cell_type": "code",
      "execution_count": null,
      "metadata": {
        "id": "ttIqO-Nkgue4"
      },
      "outputs": [],
      "source": [
        ""
      ]
    }
  ],
  "metadata": {
    "colab": {
      "collapsed_sections": [],
      "name": "Emoji Analysis and Expression Recognition.ipynb",
      "provenance": []
    },
    "kernelspec": {
      "display_name": "Python 3",
      "name": "python3"
    },
    "language_info": {
      "name": "python"
    }
  },
  "nbformat": 4,
  "nbformat_minor": 0
}